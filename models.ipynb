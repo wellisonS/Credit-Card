{
 "cells": [
  {
   "cell_type": "markdown",
   "metadata": {},
   "source": [
    "### **1. Importando bibliotecas**"
   ]
  },
  {
   "cell_type": "code",
   "execution_count": 13,
   "metadata": {},
   "outputs": [],
   "source": [
    "import pandas as pd\n",
    "import numpy as np\n",
    "import seaborn as sns\n",
    "import matplotlib.pyplot as plt\n",
    "from sklearn.preprocessing import StandardScaler, LabelEncoder\n",
    "from sklearn.model_selection import train_test_split, cross_val_score, cross_val_predict \n",
    "from sklearn.ensemble import RandomForestClassifier\n",
    "from sklearn.linear_model import LogisticRegression\n",
    "from sklearn.metrics import classification_report, confusion_matrix, roc_auc_score\n",
    "from sklearn.preprocessing import OneHotEncoder\n",
    "from sklearn.metrics import roc_curve, roc_auc_score"
   ]
  },
  {
   "cell_type": "markdown",
   "metadata": {},
   "source": [
    "### **2. Carregando o dataset**"
   ]
  },
  {
   "cell_type": "code",
   "execution_count": 14,
   "metadata": {},
   "outputs": [
    {
     "data": {
      "text/html": [
       "<div>\n",
       "<style scoped>\n",
       "    .dataframe tbody tr th:only-of-type {\n",
       "        vertical-align: middle;\n",
       "    }\n",
       "\n",
       "    .dataframe tbody tr th {\n",
       "        vertical-align: top;\n",
       "    }\n",
       "\n",
       "    .dataframe thead th {\n",
       "        text-align: right;\n",
       "    }\n",
       "</style>\n",
       "<table border=\"1\" class=\"dataframe\">\n",
       "  <thead>\n",
       "    <tr style=\"text-align: right;\">\n",
       "      <th></th>\n",
       "      <th>CLIENTNUM</th>\n",
       "      <th>Attrition_Flag</th>\n",
       "      <th>Customer_Age</th>\n",
       "      <th>Gender</th>\n",
       "      <th>Dependent_count</th>\n",
       "      <th>Education_Level</th>\n",
       "      <th>Marital_Status</th>\n",
       "      <th>Income_Category</th>\n",
       "      <th>Card_Category</th>\n",
       "      <th>Months_on_book</th>\n",
       "      <th>...</th>\n",
       "      <th>Credit_Limit</th>\n",
       "      <th>Total_Revolving_Bal</th>\n",
       "      <th>Avg_Open_To_Buy</th>\n",
       "      <th>Total_Amt_Chng_Q4_Q1</th>\n",
       "      <th>Total_Trans_Amt</th>\n",
       "      <th>Total_Trans_Ct</th>\n",
       "      <th>Total_Ct_Chng_Q4_Q1</th>\n",
       "      <th>Avg_Utilization_Ratio</th>\n",
       "      <th>Naive_Bayes_Classifier_Attrition_Flag_Card_Category_Contacts_Count_12_mon_Dependent_count_Education_Level_Months_Inactive_12_mon_1</th>\n",
       "      <th>Naive_Bayes_Classifier_Attrition_Flag_Card_Category_Contacts_Count_12_mon_Dependent_count_Education_Level_Months_Inactive_12_mon_2</th>\n",
       "    </tr>\n",
       "  </thead>\n",
       "  <tbody>\n",
       "    <tr>\n",
       "      <th>0</th>\n",
       "      <td>768805383</td>\n",
       "      <td>Existing Customer</td>\n",
       "      <td>45</td>\n",
       "      <td>M</td>\n",
       "      <td>3</td>\n",
       "      <td>High School</td>\n",
       "      <td>Married</td>\n",
       "      <td>$60K - $80K</td>\n",
       "      <td>Blue</td>\n",
       "      <td>39</td>\n",
       "      <td>...</td>\n",
       "      <td>12691.0</td>\n",
       "      <td>777</td>\n",
       "      <td>11914.0</td>\n",
       "      <td>1.335</td>\n",
       "      <td>1144</td>\n",
       "      <td>42</td>\n",
       "      <td>1.625</td>\n",
       "      <td>0.061</td>\n",
       "      <td>0.000093</td>\n",
       "      <td>0.99991</td>\n",
       "    </tr>\n",
       "    <tr>\n",
       "      <th>1</th>\n",
       "      <td>818770008</td>\n",
       "      <td>Existing Customer</td>\n",
       "      <td>49</td>\n",
       "      <td>F</td>\n",
       "      <td>5</td>\n",
       "      <td>Graduate</td>\n",
       "      <td>Single</td>\n",
       "      <td>Less than $40K</td>\n",
       "      <td>Blue</td>\n",
       "      <td>44</td>\n",
       "      <td>...</td>\n",
       "      <td>8256.0</td>\n",
       "      <td>864</td>\n",
       "      <td>7392.0</td>\n",
       "      <td>1.541</td>\n",
       "      <td>1291</td>\n",
       "      <td>33</td>\n",
       "      <td>3.714</td>\n",
       "      <td>0.105</td>\n",
       "      <td>0.000057</td>\n",
       "      <td>0.99994</td>\n",
       "    </tr>\n",
       "    <tr>\n",
       "      <th>2</th>\n",
       "      <td>713982108</td>\n",
       "      <td>Existing Customer</td>\n",
       "      <td>51</td>\n",
       "      <td>M</td>\n",
       "      <td>3</td>\n",
       "      <td>Graduate</td>\n",
       "      <td>Married</td>\n",
       "      <td>$80K - $120K</td>\n",
       "      <td>Blue</td>\n",
       "      <td>36</td>\n",
       "      <td>...</td>\n",
       "      <td>3418.0</td>\n",
       "      <td>0</td>\n",
       "      <td>3418.0</td>\n",
       "      <td>2.594</td>\n",
       "      <td>1887</td>\n",
       "      <td>20</td>\n",
       "      <td>2.333</td>\n",
       "      <td>0.000</td>\n",
       "      <td>0.000021</td>\n",
       "      <td>0.99998</td>\n",
       "    </tr>\n",
       "    <tr>\n",
       "      <th>3</th>\n",
       "      <td>769911858</td>\n",
       "      <td>Existing Customer</td>\n",
       "      <td>40</td>\n",
       "      <td>F</td>\n",
       "      <td>4</td>\n",
       "      <td>High School</td>\n",
       "      <td>Unknown</td>\n",
       "      <td>Less than $40K</td>\n",
       "      <td>Blue</td>\n",
       "      <td>34</td>\n",
       "      <td>...</td>\n",
       "      <td>3313.0</td>\n",
       "      <td>2517</td>\n",
       "      <td>796.0</td>\n",
       "      <td>1.405</td>\n",
       "      <td>1171</td>\n",
       "      <td>20</td>\n",
       "      <td>2.333</td>\n",
       "      <td>0.760</td>\n",
       "      <td>0.000134</td>\n",
       "      <td>0.99987</td>\n",
       "    </tr>\n",
       "    <tr>\n",
       "      <th>4</th>\n",
       "      <td>709106358</td>\n",
       "      <td>Existing Customer</td>\n",
       "      <td>40</td>\n",
       "      <td>M</td>\n",
       "      <td>3</td>\n",
       "      <td>Uneducated</td>\n",
       "      <td>Married</td>\n",
       "      <td>$60K - $80K</td>\n",
       "      <td>Blue</td>\n",
       "      <td>21</td>\n",
       "      <td>...</td>\n",
       "      <td>4716.0</td>\n",
       "      <td>0</td>\n",
       "      <td>4716.0</td>\n",
       "      <td>2.175</td>\n",
       "      <td>816</td>\n",
       "      <td>28</td>\n",
       "      <td>2.500</td>\n",
       "      <td>0.000</td>\n",
       "      <td>0.000022</td>\n",
       "      <td>0.99998</td>\n",
       "    </tr>\n",
       "  </tbody>\n",
       "</table>\n",
       "<p>5 rows × 23 columns</p>\n",
       "</div>"
      ],
      "text/plain": [
       "   CLIENTNUM     Attrition_Flag  Customer_Age Gender  Dependent_count  \\\n",
       "0  768805383  Existing Customer            45      M                3   \n",
       "1  818770008  Existing Customer            49      F                5   \n",
       "2  713982108  Existing Customer            51      M                3   \n",
       "3  769911858  Existing Customer            40      F                4   \n",
       "4  709106358  Existing Customer            40      M                3   \n",
       "\n",
       "  Education_Level Marital_Status Income_Category Card_Category  \\\n",
       "0     High School        Married     $60K - $80K          Blue   \n",
       "1        Graduate         Single  Less than $40K          Blue   \n",
       "2        Graduate        Married    $80K - $120K          Blue   \n",
       "3     High School        Unknown  Less than $40K          Blue   \n",
       "4      Uneducated        Married     $60K - $80K          Blue   \n",
       "\n",
       "   Months_on_book  ...  Credit_Limit  Total_Revolving_Bal  Avg_Open_To_Buy  \\\n",
       "0              39  ...       12691.0                  777          11914.0   \n",
       "1              44  ...        8256.0                  864           7392.0   \n",
       "2              36  ...        3418.0                    0           3418.0   \n",
       "3              34  ...        3313.0                 2517            796.0   \n",
       "4              21  ...        4716.0                    0           4716.0   \n",
       "\n",
       "   Total_Amt_Chng_Q4_Q1  Total_Trans_Amt  Total_Trans_Ct  Total_Ct_Chng_Q4_Q1  \\\n",
       "0                 1.335             1144              42                1.625   \n",
       "1                 1.541             1291              33                3.714   \n",
       "2                 2.594             1887              20                2.333   \n",
       "3                 1.405             1171              20                2.333   \n",
       "4                 2.175              816              28                2.500   \n",
       "\n",
       "   Avg_Utilization_Ratio  \\\n",
       "0                  0.061   \n",
       "1                  0.105   \n",
       "2                  0.000   \n",
       "3                  0.760   \n",
       "4                  0.000   \n",
       "\n",
       "   Naive_Bayes_Classifier_Attrition_Flag_Card_Category_Contacts_Count_12_mon_Dependent_count_Education_Level_Months_Inactive_12_mon_1  \\\n",
       "0                                           0.000093                                                                                    \n",
       "1                                           0.000057                                                                                    \n",
       "2                                           0.000021                                                                                    \n",
       "3                                           0.000134                                                                                    \n",
       "4                                           0.000022                                                                                    \n",
       "\n",
       "   Naive_Bayes_Classifier_Attrition_Flag_Card_Category_Contacts_Count_12_mon_Dependent_count_Education_Level_Months_Inactive_12_mon_2  \n",
       "0                                            0.99991                                                                                   \n",
       "1                                            0.99994                                                                                   \n",
       "2                                            0.99998                                                                                   \n",
       "3                                            0.99987                                                                                   \n",
       "4                                            0.99998                                                                                   \n",
       "\n",
       "[5 rows x 23 columns]"
      ]
     },
     "execution_count": 14,
     "metadata": {},
     "output_type": "execute_result"
    }
   ],
   "source": [
    "bankchurners = pd.read_csv('BankChurners.csv') \n",
    "bankchurners.head()"
   ]
  },
  {
   "cell_type": "markdown",
   "metadata": {},
   "source": [
    "### **3.Limpeza dos dados**"
   ]
  },
  {
   "cell_type": "code",
   "execution_count": 15,
   "metadata": {},
   "outputs": [],
   "source": [
    "# removendo colunas desnecessárias\n",
    "if 'CLIENTNUM' in bankchurners.columns:\n",
    "    bankchurners.drop(['CLIENTNUM'], axis=1, inplace=True)\n",
    "bankchurners.drop(columns=[col for col in bankchurners.columns if \"Unnamed\" in col], inplace=True)\n",
    "\n",
    "# removendo colunas especificas do Naive Bayes \n",
    "bankchurners.drop([\n",
    "    'Naive_Bayes_Classifier_Attrition_Flag_Card_Category_Contacts_Count_12_mon_Dependent_count_Education_Level_Months_Inactive_12_mon_1',\n",
    "    'Naive_Bayes_Classifier_Attrition_Flag_Card_Category_Contacts_Count_12_mon_Dependent_count_Education_Level_Months_Inactive_12_mon_2'\n",
    "], axis=1, inplace=True)"
   ]
  },
  {
   "cell_type": "code",
   "execution_count": 16,
   "metadata": {},
   "outputs": [
    {
     "data": {
      "text/plain": [
       "Attrition_Flag              0\n",
       "Customer_Age                0\n",
       "Gender                      0\n",
       "Dependent_count             0\n",
       "Education_Level             0\n",
       "Marital_Status              0\n",
       "Income_Category             0\n",
       "Card_Category               0\n",
       "Months_on_book              0\n",
       "Total_Relationship_Count    0\n",
       "Months_Inactive_12_mon      0\n",
       "Contacts_Count_12_mon       0\n",
       "Credit_Limit                0\n",
       "Total_Revolving_Bal         0\n",
       "Avg_Open_To_Buy             0\n",
       "Total_Amt_Chng_Q4_Q1        0\n",
       "Total_Trans_Amt             0\n",
       "Total_Trans_Ct              0\n",
       "Total_Ct_Chng_Q4_Q1         0\n",
       "Avg_Utilization_Ratio       0\n",
       "dtype: int64"
      ]
     },
     "execution_count": 16,
     "metadata": {},
     "output_type": "execute_result"
    }
   ],
   "source": [
    "# verificando valores nulos\n",
    "bankchurners.isnull().sum()"
   ]
  },
  {
   "cell_type": "code",
   "execution_count": 17,
   "metadata": {},
   "outputs": [],
   "source": [
    "bankchurners['Gender'] = bankchurners['Gender'].map({'M':1,\"F\":0})\n",
    "bankchurners['Attrition_Flag'] = bankchurners['Attrition_Flag'].map({'Attrited Customer': 1, 'Existing Customer': 0})"
   ]
  },
  {
   "cell_type": "code",
   "execution_count": 18,
   "metadata": {},
   "outputs": [
    {
     "name": "stdout",
     "output_type": "stream",
     "text": [
      "<class 'pandas.core.frame.DataFrame'>\n",
      "RangeIndex: 10127 entries, 0 to 10126\n",
      "Data columns (total 20 columns):\n",
      " #   Column                    Non-Null Count  Dtype  \n",
      "---  ------                    --------------  -----  \n",
      " 0   Attrition_Flag            10127 non-null  int64  \n",
      " 1   Customer_Age              10127 non-null  int64  \n",
      " 2   Gender                    10127 non-null  int64  \n",
      " 3   Dependent_count           10127 non-null  int64  \n",
      " 4   Education_Level           10127 non-null  object \n",
      " 5   Marital_Status            10127 non-null  object \n",
      " 6   Income_Category           10127 non-null  object \n",
      " 7   Card_Category             10127 non-null  object \n",
      " 8   Months_on_book            10127 non-null  int64  \n",
      " 9   Total_Relationship_Count  10127 non-null  int64  \n",
      " 10  Months_Inactive_12_mon    10127 non-null  int64  \n",
      " 11  Contacts_Count_12_mon     10127 non-null  int64  \n",
      " 12  Credit_Limit              10127 non-null  float64\n",
      " 13  Total_Revolving_Bal       10127 non-null  int64  \n",
      " 14  Avg_Open_To_Buy           10127 non-null  float64\n",
      " 15  Total_Amt_Chng_Q4_Q1      10127 non-null  float64\n",
      " 16  Total_Trans_Amt           10127 non-null  int64  \n",
      " 17  Total_Trans_Ct            10127 non-null  int64  \n",
      " 18  Total_Ct_Chng_Q4_Q1       10127 non-null  float64\n",
      " 19  Avg_Utilization_Ratio     10127 non-null  float64\n",
      "dtypes: float64(5), int64(11), object(4)\n",
      "memory usage: 1.5+ MB\n"
     ]
    }
   ],
   "source": [
    "bankchurners.info()"
   ]
  },
  {
   "cell_type": "markdown",
   "metadata": {},
   "source": [
    "## **V. Feature Engineering and Selection**"
   ]
  },
  {
   "cell_type": "code",
   "execution_count": 19,
   "metadata": {},
   "outputs": [],
   "source": [
    "bankchurners.drop(['Marital_Status', 'Card_Category'], axis=1, inplace=True)"
   ]
  },
  {
   "cell_type": "code",
   "execution_count": 20,
   "metadata": {},
   "outputs": [],
   "source": [
    "# One-hot encoding para colunas multicategóricas\n",
    "## Converter variáveis categóricas (características com categorias discretas) em um formato binário que os modelos de aprendizado de máquina possam usar de forma mais eficaz, especialmente quando não há uma ordem inerente entre as categorias.  \n",
    "bankchurners = pd.get_dummies(bankchurners, columns=['Education_Level', 'Income_Category'], drop_first=True)\n"
   ]
  },
  {
   "cell_type": "code",
   "execution_count": 21,
   "metadata": {},
   "outputs": [],
   "source": [
    "scaler = StandardScaler()\n",
    "numerical_features = ['Customer_Age', 'Dependent_count', 'Months_on_book', 'Total_Relationship_Count', 'Months_Inactive_12_mon', 'Contacts_Count_12_mon', 'Total_Revolving_Bal', 'Total_Trans_Amt', 'Total_Trans_Ct']\n",
    "bankchurners[numerical_features] = scaler.fit_transform(bankchurners[numerical_features])\n"
   ]
  },
  {
   "cell_type": "code",
   "execution_count": 22,
   "metadata": {},
   "outputs": [],
   "source": [
    "from sklearn.decomposition import PCA\n",
    "scaled_data = bankchurners[['Total_Trans_Amt', 'Total_Trans_Ct']]\n",
    "pca = PCA(n_components=1)  # Giảm về 1 chiều\n",
    "bankchurners['Total_Trans_PCA'] = pca.fit_transform(scaled_data)"
   ]
  },
  {
   "cell_type": "code",
   "execution_count": 23,
   "metadata": {},
   "outputs": [
    {
     "name": "stderr",
     "output_type": "stream",
     "text": [
      "/home/wellison/.local/lib/python3.11/site-packages/sklearn/base.py:1389: DataConversionWarning: A column-vector y was passed when a 1d array was expected. Please change the shape of y to (n_samples,), for example using ravel().\n",
      "  return fit_method(estimator, *args, **kwargs)\n"
     ]
    },
    {
     "name": "stdout",
     "output_type": "stream",
     "text": [
      "[0.02868127 0.01593248 0.02268338 0.02564022 0.07324702 0.03641038\n",
      " 0.04195403 0.03051753 0.10550894 0.02894706 0.04359102 0.11828071\n",
      " 0.1330072  0.06289734 0.04486405 0.00502965 0.0113474  0.0089\n",
      " 0.00580847 0.00852041 0.00919036 0.00775355 0.00612701 0.00687452\n",
      " 0.00858961 0.0059898  0.10370661]\n"
     ]
    },
    {
     "data": {
      "image/png": "[encoded data removed]",
      "text/plain": [
       "<Figure size 2000x600 with 1 Axes>"
      ]
     },
     "metadata": {},
     "output_type": "display_data"
    }
   ],
   "source": [
    "plt.figure(figsize = (20,6))\n",
    "sns.set_style('darkgrid')\n",
    "\n",
    "x = bankchurners.loc[:, bankchurners.columns !='Attrition_Flag']\n",
    "y = bankchurners.loc[:, bankchurners.columns == 'Attrition_Flag']\n",
    "\n",
    "from sklearn.ensemble import ExtraTreesClassifier\n",
    "model = ExtraTreesClassifier()\n",
    "model.fit(x,y)\n",
    "print(model.feature_importances_)\n",
    "feat_importances = pd.Series(model.feature_importances_, index = x.columns)\n",
    "img = feat_importances.nlargest(20).plot(kind = 'barh')\n",
    "labels1 = feat_importances.nlargest(20).plot(kind = 'barh').get_yticklabels()\n",
    "plt.show()"
   ]
  },
  {
   "cell_type": "code",
   "execution_count": 24,
   "metadata": {},
   "outputs": [],
   "source": [
    "required_labels = list()\n",
    "for i in labels1:\n",
    "    j = str(i)\n",
    "    required_labels.append(j[12:len(j)-2])"
   ]
  },
  {
   "cell_type": "markdown",
   "metadata": {},
   "source": [
    "## **V. Model Implementation**\n",
    "### **1. Data Splitting**"
   ]
  },
  {
   "cell_type": "code",
   "execution_count": 25,
   "metadata": {},
   "outputs": [],
   "source": [
    "\n",
    "X = bankchurners.drop('Attrition_Flag', axis=1)  \n",
    "y = bankchurners['Attrition_Flag']  "
   ]
  },
  {
   "cell_type": "code",
   "execution_count": 26,
   "metadata": {},
   "outputs": [],
   "source": [
    "X_train, X_test, y_train, y_test = train_test_split(X, y, test_size=0.3, random_state=42)"
   ]
  },
  {
   "cell_type": "markdown",
   "metadata": {},
   "source": [
    "***Razões para escolher Random Forest***  \n",
    "- ***Lida com Relações Não Lineares:*** Como o conjunto de dados contém variáveis numéricas e categóricas, o Random Forest pode capturar relações complexas e não lineares entre as features e a variável alvo (evasão).  \n",
    "\n",
    "- ***Manejo de Dados Desbalanceados:*** A capacidade do Random Forest de utilizar bootstrap e agregar resultados de múltiplas árvores pode ajudar a equilibrar a influência de classes minoritárias, como clientes que cancelaram (16,07%) neste caso.  \n",
    "\n",
    "- ***Redução do impacto de outliers:*** O Random Forest é menos sensível a outliers, tornando-se ideal para features como **Total_Revolving_Bal, Avg_Open_To_Buy e Total_Trans_Amt**, que possuem valores extremos. As divisões baseadas em árvores ajudam a reduzir o impacto desses valores extremos, capturando padrões de forma mais eficaz.  \n",
    "\n",
    "***A principal intuição por trás do algoritmo:***  \n",
    "- **Amostragem Bootstrap:** Cada árvore é treinada em um subconjunto aleatório dos dados (com reposição), introduzindo variedade e reduzindo a variância.  \n",
    "\n",
    "- **Seleção Aleatória de Features:** A cada divisão, apenas um subconjunto aleatório de features é considerado, evitando que uma única feature domine e garantindo árvores mais diversas.  \n",
    "\n",
    "- **Votação em Conjunto (Ensemble Voting):** Para classificação, cada árvore \"vota\" na classe e a maioria dos votos define a previsão final. Essa abordagem de conjunto ajuda a suavizar erros e melhora a precisão.  \n",
    "\n",
    "***Ajuste de Hiperparâmetros para Random Forest:***  \n",
    "- Número de Árvores (**n_estimators**): define a quantidade de árvores na floresta  \n",
    "  - **n_estimators = 100**  \n",
    "- Profundidade Máxima (**max_depth**): profundidade máxima de cada árvore  \n",
    "  - **max_depth = 50**  \n",
    "- Mínimo de Amostras por Folha (**min_samples_leaf**): número mínimo de amostras necessárias para formar uma folha  \n",
    "  - **min_samples_leaf = 5**  \n",
    "- Mínimo de Amostras para Divisão (**min_samples_split**): número mínimo de amostras necessárias para dividir um nó interno em uma árvore de decisão  \n",
    "  - **min_samples_split = 20**  \n",
    "- Peso das Classes (**class_weight**): atribui pesos diferentes às classes, ajudando a lidar com conjuntos de dados desbalanceados  \n",
    "  - **class_weight = 'balanced'**  \n"
   ]
  },
  {
   "cell_type": "code",
   "execution_count": 27,
   "metadata": {},
   "outputs": [],
   "source": [
    "rfcl = RandomForestClassifier(n_estimators=100, max_depth=30, min_samples_split=20, min_samples_leaf=5, class_weight='balanced',random_state=42)\n",
    "rfcl = rfcl.fit(X_train, y_train)"
   ]
  },
  {
   "cell_type": "code",
   "execution_count": 28,
   "metadata": {},
   "outputs": [],
   "source": [
    "y_train_rf = rfcl.predict(X_train)"
   ]
  },
  {
   "cell_type": "code",
   "execution_count": 29,
   "metadata": {},
   "outputs": [],
   "source": [
    "y_test_rf = rfcl.predict(X_test)"
   ]
  },
  {
   "cell_type": "markdown",
   "metadata": {},
   "source": [
    "## **VI. Avaliação do modelo**"
   ]
  },
  {
   "cell_type": "code",
   "execution_count": 30,
   "metadata": {},
   "outputs": [
    {
     "name": "stdout",
     "output_type": "stream",
     "text": [
      "Model Accuracy: 0.9738995485327314\n"
     ]
    }
   ],
   "source": [
    "print(\"Model Accuracy:\", rfcl.score(X_train, y_train))"
   ]
  },
  {
   "cell_type": "code",
   "execution_count": 31,
   "metadata": {},
   "outputs": [
    {
     "name": "stdout",
     "output_type": "stream",
     "text": [
      "Model Accuracy: 0.9526159921026653\n"
     ]
    }
   ],
   "source": [
    "print(\"Model Accuracy:\", rfcl.score(X_test, y_test))"
   ]
  },
  {
   "cell_type": "code",
   "execution_count": 32,
   "metadata": {},
   "outputs": [],
   "source": [
    "cm_rf = confusion_matrix(y_test, y_test_rf, labels=[0, 1])  # 1 = Churn, 0 = No Churn"
   ]
  },
  {
   "cell_type": "code",
   "execution_count": 33,
   "metadata": {},
   "outputs": [
    {
     "data": {
      "image/png": "[encoded data removed]",
      "text/plain": [
       "<Figure size 700x500 with 2 Axes>"
      ]
     },
     "metadata": {},
     "output_type": "display_data"
    }
   ],
   "source": [
    "df_cm_rf = pd.DataFrame(cm_rf)\n",
    "\n",
    "plt.figure(figsize=(7, 5))\n",
    "sns.heatmap(df_cm_rf, annot=True, fmt='g')\n",
    "plt.title(\"Confusion Matrix - Random Forest\")\n",
    "plt.ylabel(\"True Label\")\n",
    "plt.xlabel(\"Predicted Label\")\n",
    "plt.show()"
   ]
  },
  {
   "cell_type": "code",
   "execution_count": 34,
   "metadata": {},
   "outputs": [
    {
     "name": "stdout",
     "output_type": "stream",
     "text": [
      "              precision    recall  f1-score   support\n",
      "\n",
      "           0       0.98      0.96      0.97      2543\n",
      "           1       0.82      0.91      0.86       496\n",
      "\n",
      "    accuracy                           0.95      3039\n",
      "   macro avg       0.90      0.93      0.92      3039\n",
      "weighted avg       0.96      0.95      0.95      3039\n",
      "\n"
     ]
    }
   ],
   "source": [
    "print(classification_report(y_test, y_test_rf))"
   ]
  },
  {
   "cell_type": "code",
   "execution_count": 35,
   "metadata": {},
   "outputs": [
    {
     "name": "stdout",
     "output_type": "stream",
     "text": [
      "Cross-validation scores: [0.94669299 0.94866732 0.96051333 0.95459033 0.94076999 0.96248766\n",
      " 0.94570582 0.95849802 0.96936759 0.96146245]\n",
      "Mean cross-validation score: 0.9548755506479013\n",
      "              precision    recall  f1-score   support\n",
      "\n",
      "           0       0.98      0.96      0.97      8500\n",
      "           1       0.83      0.91      0.87      1627\n",
      "\n",
      "    accuracy                           0.95     10127\n",
      "   macro avg       0.90      0.94      0.92     10127\n",
      "weighted avg       0.96      0.95      0.96     10127\n",
      "\n"
     ]
    }
   ],
   "source": [
    "from sklearn.model_selection import StratifiedKFold\n",
    "stratified_kfold = StratifiedKFold(n_splits=10, shuffle=True, random_state=42)\n",
    "\n",
    "\n",
    "cv_scores = cross_val_score(rfcl, X, y, cv=stratified_kfold)\n",
    "print(f\"Cross-validation scores: {cv_scores}\")\n",
    "print(f\"Mean cross-validation score: {cv_scores.mean()}\")\n",
    "\n",
    "\n",
    "y_pred = cross_val_predict(rfcl, X, y, cv=stratified_kfold)\n",
    "\n",
    "\n",
    "print(classification_report(y, y_pred))"
   ]
  },
  {
   "cell_type": "code",
   "execution_count": 36,
   "metadata": {},
   "outputs": [
    {
     "name": "stdout",
     "output_type": "stream",
     "text": [
      "ROC AUC Score: 0.9867322377684473\n"
     ]
    }
   ],
   "source": [
    "print(\"ROC AUC Score:\", roc_auc_score(y_test, rfcl.predict_proba(X_test)[:, 1]))"
   ]
  },
  {
   "cell_type": "code",
   "execution_count": 37,
   "metadata": {},
   "outputs": [
    {
     "name": "stdout",
     "output_type": "stream",
     "text": [
      "Cross-Validation ROC AUC Scores: [0.89731685 0.98404908 0.99460452 0.99761086 0.67412579]\n",
      "Mean ROC AUC Score: 0.9095414218693613\n"
     ]
    }
   ],
   "source": [
    "cv_scores = cross_val_score(rfcl, X, y, cv=5, scoring='roc_auc')\n",
    "print(f\"Cross-Validation ROC AUC Scores: {cv_scores}\")\n",
    "print(f\"Mean ROC AUC Score: {cv_scores.mean()}\")"
   ]
  },
  {
   "cell_type": "markdown",
   "metadata": {},
   "source": [
    "**Discussão sobre os Pontos Fortes e Fracos do Modelo Random Forest**\n",
    "\n",
    "***1. Pontos Fortes***  \n",
    "- **Manejo de Desequilíbrio de Classes**: O parâmetro ***class_weight='balanced'*** ajusta a função de perda do modelo para dar mais importância à classe minoritária, permitindo que o Random Forest foque mais na previsão de clientes que irão cancelar (classe 1). Isso resulta em:  \n",
    "  - **Maior recall** para cancelamento (classe 1), o que é crucial para prever quem provavelmente irá sair. O recall é particularmente importante na previsão de cancelamento, pois garante que a maioria dos clientes que sairão sejam identificados.  \n",
    "\n",
    "  - **F1-score para cancelamento:** O F1-score para clientes cancelados no conjunto de treino é 0,93, indicando um bom equilíbrio entre precisão e recall. No conjunto de teste, é 0,87, mostrando que, embora possa haver espaço para melhorias, o modelo ainda identifica eficazmente os clientes em risco.  \n",
    "\n",
    "- **Desempenho no Conjunto de Teste**  \n",
    "  - **Acurácia**: O modelo alcança uma acurácia de 94,80% no conjunto de teste, refletindo um bom desempenho geral.  \n",
    "\n",
    "  - **Precisão e Recall para Cancelamento:** A precisão para cancelamento é 0,82 e o recall é 0,88 no conjunto de teste. Isso mostra que o modelo é bastante eficaz em identificar clientes que irão cancelar (alto recall), com alguns falsos positivos (precisão moderada).  \n",
    "\n",
    "- **Desempenho na Validação Cruzada**  \n",
    "  - Ao usar Validação Cruzada Estratificada (5-fold), a acurácia média da validação cruzada é 95,17%, com desempenho consistente e estável em todas as dobras. Isso é um indicativo importante de como o modelo se generaliza para dados não vistos.  \n",
    "  - O score ROC AUC para o processo de validação cruzada é 0,98, sugerindo que o modelo é muito eficaz em distinguir entre clientes que cancelam e os que não cancelam.  \n",
    "\n",
    "  > A validação cruzada estratificada garante uma distribuição equilibrada de instâncias de cancelamento e não cancelamento em cada dobra, resultando em uma avaliação mais confiável do desempenho do modelo em conjuntos de dados desbalanceados.  \n",
    "\n",
    "***2. Pontos Fracos***  \n",
    "- **Interpretabilidade**  \n",
    "  - Embora a importância das features possa ajudar a entender quais variáveis influenciam as previsões, o Random Forest continua sendo um ***modelo de caixa-preta*** quando se trata de explicar previsões individuais. Isso pode ser um ***desafio para stakeholders que precisam entender por que um determinado cliente foi previsto como provável de cancelar ou não.***  \n",
    "\n",
    "  - Para empresas que dependem de processos de decisão transparentes, a falta de clareza sobre como o Random Forest chega às previsões pode dificultar sua adoção.  \n",
    "\n",
    "- **Dificuldade com Desequilíbrios Extremos de Classe:** Apesar do uso de pesos de classe e da obtenção de um alto recall, o modelo ainda pode enfrentar desafios para prever com precisão os clientes que irão cancelar quando o desbalanceamento de classes for particularmente severo.  \n",
    "  ***Em aplicações práticas, onde a taxa de desbalanceamento pode variar, há um risco significativo de que o modelo não consiga identificar de forma confiável os clientes que irão cancelar, levando a previsões menos eficazes.***  \n"
   ]
  },
  {
   "cell_type": "code",
   "execution_count": 38,
   "metadata": {},
   "outputs": [],
   "source": [
    "y_predict = rfcl.predict(X_test)\n",
    "churned_customers = X_test[y_predict == 0]"
   ]
  },
  {
   "cell_type": "code",
   "execution_count": 39,
   "metadata": {},
   "outputs": [
    {
     "name": "stdout",
     "output_type": "stream",
     "text": [
      "Churned Customers:\n",
      "      Customer_Age  Gender  Dependent_count  Months_on_book  \\\n",
      "3781      0.208826       0         0.503368        0.384621   \n",
      "2922      1.581010       1        -1.036462        2.137684   \n",
      "5070     -1.163358       0        -0.266547        0.008965   \n",
      "7246      0.084082       1         0.503368        0.008965   \n",
      "623      -0.539638       1         0.503368       -0.366692   \n",
      "...            ...     ...              ...             ...   \n",
      "6621      0.333570       1         1.273283       -0.742348   \n",
      "9535     -0.913870       1        -1.036462        0.008965   \n",
      "4638      1.206778       1        -0.266547        1.511590   \n",
      "1166     -1.038614       0        -0.266547        0.008965   \n",
      "254       2.953194       1        -1.806378        2.513340   \n",
      "\n",
      "      Total_Relationship_Count  Months_Inactive_12_mon  Contacts_Count_12_mon  \\\n",
      "3781                  0.120579                0.651940               1.396424   \n",
      "2922                  0.763943                2.631016               1.396424   \n",
      "5070                  0.120579                0.651940               0.492404   \n",
      "7246                  0.120579               -0.337598               0.492404   \n",
      "623                  -0.522785                0.651940              -0.411616   \n",
      "...                        ...                     ...                    ...   \n",
      "6621                  0.763943                0.651940               0.492404   \n",
      "9535                 -1.809512                0.651940              -0.411616   \n",
      "4638                  0.120579                0.651940               0.492404   \n",
      "1166                  1.407306                0.651940               1.396424   \n",
      "254                  -0.522785               -0.337598               0.492404   \n",
      "\n",
      "      Credit_Limit  Total_Revolving_Bal  Avg_Open_To_Buy  ...  \\\n",
      "3781        2991.0             0.423569           1483.0  ...   \n",
      "2922        2192.0             0.498420            623.0  ...   \n",
      "5070        1734.0            -0.215737            747.0  ...   \n",
      "7246        4786.0             0.433385           3270.0  ...   \n",
      "623         3714.0             1.235891           1544.0  ...   \n",
      "...            ...                  ...              ...  ...   \n",
      "6621        1579.0            -0.322492            679.0  ...   \n",
      "9535       34516.0             0.612538          32854.0  ...   \n",
      "4638        4480.0             1.597878           2015.0  ...   \n",
      "1166        2717.0             0.525416           1126.0  ...   \n",
      "254         3252.0             0.407617           1757.0  ...   \n",
      "\n",
      "      Education_Level_High School  Education_Level_Post-Graduate  \\\n",
      "3781                            0                              0   \n",
      "2922                            0                              0   \n",
      "5070                            0                              0   \n",
      "7246                            0                              0   \n",
      "623                             0                              0   \n",
      "...                           ...                            ...   \n",
      "6621                            1                              0   \n",
      "9535                            0                              0   \n",
      "4638                            0                              0   \n",
      "1166                            0                              0   \n",
      "254                             1                              0   \n",
      "\n",
      "      Education_Level_Uneducated  Education_Level_Unknown  \\\n",
      "3781                           1                        0   \n",
      "2922                           1                        0   \n",
      "5070                           0                        0   \n",
      "7246                           0                        0   \n",
      "623                            0                        1   \n",
      "...                          ...                      ...   \n",
      "6621                           0                        0   \n",
      "9535                           0                        0   \n",
      "4638                           0                        0   \n",
      "1166                           0                        0   \n",
      "254                            0                        0   \n",
      "\n",
      "      Income_Category_$40K - $60K  Income_Category_$60K - $80K  \\\n",
      "3781                            0                            0   \n",
      "2922                            0                            0   \n",
      "5070                            0                            0   \n",
      "7246                            1                            0   \n",
      "623                             0                            0   \n",
      "...                           ...                          ...   \n",
      "6621                            0                            1   \n",
      "9535                            0                            1   \n",
      "4638                            0                            0   \n",
      "1166                            0                            0   \n",
      "254                             0                            0   \n",
      "\n",
      "      Income_Category_$80K - $120K  Income_Category_Less than $40K  \\\n",
      "3781                             0                               1   \n",
      "2922                             0                               1   \n",
      "5070                             0                               1   \n",
      "7246                             0                               0   \n",
      "623                              1                               0   \n",
      "...                            ...                             ...   \n",
      "6621                             0                               0   \n",
      "9535                             0                               0   \n",
      "4638                             1                               0   \n",
      "1166                             0                               1   \n",
      "254                              0                               1   \n",
      "\n",
      "      Income_Category_Unknown  Total_Trans_PCA  \n",
      "3781                        0        -0.165354  \n",
      "2922                        0         0.343993  \n",
      "5070                        0         0.131727  \n",
      "7246                        0         0.393818  \n",
      "623                         0        -1.513618  \n",
      "...                       ...              ...  \n",
      "6621                        0         0.144463  \n",
      "9535                        0         3.118938  \n",
      "4638                        0         0.052022  \n",
      "1166                        0        -1.446894  \n",
      "254                         0        -2.163396  \n",
      "\n",
      "[2491 rows x 27 columns]\n"
     ]
    }
   ],
   "source": [
    "print(\"Churned Customers:\")\n",
    "print(churned_customers)"
   ]
  }
 ],
 "metadata": {
  "kernelspec": {
   "display_name": "Python 3",
   "language": "python",
   "name": "python3"
  },
  "language_info": {
   "codemirror_mode": {
    "name": "ipython",
    "version": 3
   },
   "file_extension": ".py",
   "mimetype": "text/x-python",
   "name": "python",
   "nbconvert_exporter": "python",
   "pygments_lexer": "ipython3",
   "version": "3.11.2"
  }
 },
 "nbformat": 4,
 "nbformat_minor": 2
}
